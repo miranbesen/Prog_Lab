{
 "cells": [
  {
   "cell_type": "code",
   "execution_count": 47,
   "metadata": {},
   "outputs": [],
   "source": [
    "class Node:\n",
    "    def __init__(self,key): #sadece key degerini atar düğümümüze, sağ ve sol düğümlerini None atar.\n",
    "        self.left=None\n",
    "        self.right=None\n",
    "        self.val=key"
   ]
  },
  {
   "cell_type": "code",
   "execution_count": 48,
   "metadata": {},
   "outputs": [],
   "source": [
    "def insert(root,node):\n",
    "    if root is None: #root yoksa düğüme root'u ata.\n",
    "        root =node \n",
    "    else:\n",
    "        if root.val<node.val: \n",
    "            if root.right is None:\n",
    "                root.right=node\n",
    "            else:\n",
    "                insert(root.right,node)\n",
    "        else:\n",
    "            if root.left is None:\n",
    "                root.left=node\n",
    "            else:\n",
    "                insert(root.left,node)                "
   ]
  },
  {
   "cell_type": "code",
   "execution_count": 49,
   "metadata": {},
   "outputs": [],
   "source": [
    "r=Node(50)\n",
    "insert(r,Node(30))\n",
    "insert(r,Node(20))\n",
    "insert(r,Node(40))\n",
    "insert(r,Node(70))\n",
    "insert(r,Node(60))\n",
    "insert(r,Node(80))"
   ]
  },
  {
   "cell_type": "code",
   "execution_count": 50,
   "metadata": {},
   "outputs": [],
   "source": [
    "def inorder(root): #ilk solu yazar, sonra rootu, sonra sag tarafı yazar.\n",
    "    if root:\n",
    "        inorder(root.left)\n",
    "        print(root.val,end=\" \")\n",
    "        inorder(root.right)"
   ]
  },
  {
   "cell_type": "code",
   "execution_count": 51,
   "metadata": {},
   "outputs": [],
   "source": [
    "def search(root,key):\n",
    "    \n",
    "    if root is None or root.val==key:\n",
    "        return root\n",
    "    if root.val<key:\n",
    "        return search(root.right,key)\n",
    "    else:\n",
    "        return search(root.left,key)"
   ]
  },
  {
   "cell_type": "code",
   "execution_count": 52,
   "metadata": {},
   "outputs": [
    {
     "name": "stdout",
     "output_type": "stream",
     "text": [
      "20 30 40 50 60 70 80 "
     ]
    }
   ],
   "source": [
    "inorder(r)\n",
    "    "
   ]
  },
  {
   "cell_type": "code",
   "execution_count": 53,
   "metadata": {},
   "outputs": [
    {
     "data": {
      "text/plain": [
       "20"
      ]
     },
     "execution_count": 53,
     "metadata": {},
     "output_type": "execute_result"
    }
   ],
   "source": [
    "result=search(r,20)\n",
    "result.val"
   ]
  },
  {
   "cell_type": "code",
   "execution_count": 54,
   "metadata": {},
   "outputs": [],
   "source": [
    "def minValueNode(node): \n",
    "    current= node\n",
    "    while(current.left is not None):\n",
    "        current=current.left\n",
    "    return current"
   ]
  },
  {
   "cell_type": "code",
   "execution_count": 55,
   "metadata": {},
   "outputs": [],
   "source": [
    "def deleteNode(root,key):\n",
    "    \n",
    "    if root is None:\n",
    "        return root\n",
    "    \n",
    "    if key< root.val:\n",
    "        root.left=deleteNode(root.left,key)\n",
    "    \n",
    "    elif (key>root.val):\n",
    "        root.right=deleteNode(root.right,key)\n",
    "    else:\n",
    "        \n",
    "        if root.left is None:\n",
    "            temp=root.right\n",
    "            root=None\n",
    "            return temp \n",
    "        \n",
    "        elif root.right is None:\n",
    "            temp=root.left\n",
    "            root=None\n",
    "            return temp\n",
    "        \n",
    "        temp=minValueNode(root.right) #sağın en soluna gitmek için yazdık.\n",
    "        root.val=temp.val\n",
    "        \n",
    "        root.right=deleteNode(root.right,temp.val)\n",
    "    \n",
    "    return root    "
   ]
  },
  {
   "cell_type": "code",
   "execution_count": 56,
   "metadata": {},
   "outputs": [
    {
     "data": {
      "text/plain": [
       "60"
      ]
     },
     "execution_count": 56,
     "metadata": {},
     "output_type": "execute_result"
    }
   ],
   "source": [
    "root=deleteNode(r,50)\n",
    "root.val"
   ]
  },
  {
   "cell_type": "code",
   "execution_count": 57,
   "metadata": {},
   "outputs": [
    {
     "name": "stdout",
     "output_type": "stream",
     "text": [
      "20 30 40 60 70 80 "
     ]
    }
   ],
   "source": [
    "inorder(root)"
   ]
  }
 ],
 "metadata": {
  "kernelspec": {
   "display_name": "Python 3",
   "language": "python",
   "name": "python3"
  },
  "language_info": {
   "codemirror_mode": {
    "name": "ipython",
    "version": 3
   },
   "file_extension": ".py",
   "mimetype": "text/x-python",
   "name": "python",
   "nbconvert_exporter": "python",
   "pygments_lexer": "ipython3",
   "version": "3.7.6"
  }
 },
 "nbformat": 4,
 "nbformat_minor": 4
}
