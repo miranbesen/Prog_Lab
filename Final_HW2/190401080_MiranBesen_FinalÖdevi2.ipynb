{
 "cells": [
  {
   "cell_type": "code",
   "execution_count": 1,
   "metadata": {},
   "outputs": [],
   "source": [
    "import random"
   ]
  },
  {
   "cell_type": "code",
   "execution_count": 2,
   "metadata": {},
   "outputs": [],
   "source": [
    "def createVector(n): #n boyutlu bir vektör oluşturmaya yarıyor. \n",
    "    vectorList=[]\n",
    "    if(n<0):\n",
    "        print(\"Böyle bir eleman sayisi ile vektör olusturamayız.\")\n",
    "        return \n",
    "    if(n==0): #eğer elemandan oluşmuyor ise 0 değerini ata\n",
    "        return [0]\n",
    "    for i in range(n): #1 ile 10 arası rondom sayı alıp bunları vectorListemize ekliyoruz yani oluşturmak isticeğimiz vektöre.\n",
    "        randomIndex=random.randint(1,10)\n",
    "        vectorList.append(randomIndex)\n",
    "    return vectorList"
   ]
  },
  {
   "cell_type": "code",
   "execution_count": 3,
   "metadata": {},
   "outputs": [],
   "source": [
    "def createMat(m,n): #satır ve sütun sayısına göre matris olusturuyoruz.\n",
    "    if(m<=0):\n",
    "        print(\"Olusturmak istediginiz matrisin satir sayisi uyusmuyor.\")\n",
    "        return [0]\n",
    "    if(n<=0):\n",
    "        print(\"Olusturmak istediginiz matrisin sutun sayisi uyusmuyor.\")\n",
    "        return [0]\n",
    "    m1=[]\n",
    "    for i in range(m): #satur sayısı kadar dönerek sütun sayısını Vector oluştururken kullandığımız fonksiyona göndererek, sütun daki elemanları random şekilde oluşturmaya yarıyor\n",
    "        m1.append(createVector(n))\n",
    "        \n",
    "    return m1"
   ]
  },
  {
   "cell_type": "code",
   "execution_count": 4,
   "metadata": {},
   "outputs": [],
   "source": [
    "def vectorMult(v1,v2): #iki vektörüun skaler çarpımına yarayan fonksiyonumuz.\n",
    "    if(v1==None):\n",
    "        print(\"1.inci vektörümüzün eleman sayisindaki sorundan dolayi vektörü carpamayiz.\")\n",
    "        return \n",
    "    if(v2==None):\n",
    "        print(\"2.inci vektörümüzün eleman sayisindaki sorundan dolayi vektörü carpamayiz.\")\n",
    "        return \n",
    "    v1Height=len(v1) #1 inci vektörümüzün uzunlugu\n",
    "    v2Height=len(v2) #ikinci vektörümüzün uzunlugu\n",
    "    toplam=0 \n",
    "    if(v1Height>v2Height): #hangisinin uzunlugu fazla ise küçük olana göre işlem yapmamız gereklidir.\n",
    "        numbLoop= v2Height\n",
    "    else:\n",
    "        numbLoop= v1Height\n",
    "        \n",
    "    for i in range(numbLoop):\n",
    "        toplam+=(v1[i]*v2[i]) #birinci ve ikinci vektörümüzdeki i,j,k,.. elemanlarını karşılıklı denk gelenleri çarparak ve bunların sonucunu toplayarak skaler çarpımlarını bulmuş olduk.\n",
    "        \n",
    "    return toplam\n",
    "        "
   ]
  },
  {
   "cell_type": "code",
   "execution_count": 5,
   "metadata": {},
   "outputs": [],
   "source": [
    "def matMult(m1,m2): #iki matrisin carpımını bulan fonksiyonumuz.\n",
    "    m3=[]\n",
    "    m1satırSay=len(m1) #1.inci gelen matrisimizin satır sayısı\n",
    "    m1sutunSay=len(m1[0]) #1.inci gelen matrisimizin sutun sayısı\n",
    "    m2satirSay=len(m2) #2.inci gelen matrisimizin satır sayısı\n",
    "    m2sutunSay=len(m2[0]) #2.inci gelen matrisimizin sutun sayısı\n",
    "    if(m1sutunSay!=m2satirSay): #eğer 1 inci matrisimizdeki sutun sayısı ikinci matrisimizdeki satir sayisi ile uyusmaz ise boyut uyusmazligindan dolayi carpim yapamıyoruz.Bunun için kesinlikle 1 inci matrisimizin sutun sayisi ile ikinci matrisimizin satir sayısı eşit olmalıdır.\n",
    "        print(\"Carpim matrislerimizin boyutları uyusmamaktadir.\")\n",
    "        return [0]\n",
    "    for i in range(m1satırSay): #sonuc matrisimizi oluşturmak için m1 matrisimizin satır sayısı kadar dönecek.\n",
    "        m3.append(createMatTotal(m2sutunSay)) #ikinci matrisimizinde sütun sayısını alması gerekir. Sonuc matrisinin boyutlari carpan matrisliyle uyusmaz.\n",
    "    #örnegin 3x3'lük bir matris ile 3x4'lük bir matrisi carpacak olursak eğer, sonuç matrisimizde 3x4 lük olması gerekir.\n",
    "    #print(m3)\n",
    "    for i in range(m1satırSay): #m1'in satır sayısı kadar dönecek\n",
    "        for j in range(m2sutunSay): #m2 matrisimizin sutun sayısı kadar dönmeli\n",
    "            for k in range(m1sutunSay): #m1 in sutun sayısı ile m2 nin satır sayisi aynı olması sorunlu oldugu için m1 in sutun sayısı kadar dönüyor.\n",
    "                m3[i][j]+=m1[i][k]*m2[k][j]\n",
    "            #bu Şekilde m1 matrisimizin satırları ile m2 matrisimizin sutunlarını çarpıp toplayarak sonuc matrisimize yazdırıyoruz degerleri.\n",
    "    return m3\n",
    "\n"
   ]
  },
  {
   "cell_type": "code",
   "execution_count": 6,
   "metadata": {},
   "outputs": [],
   "source": [
    "def createMatTotal(n): #Bunu kullanma amacımız ise matrislerimizi carparken sonuc matrisimizi olusturmak ve bunun tum elemanlarına 0  degerini atamak. \n",
    "    vectorList=[]\n",
    "    if(n<0):\n",
    "        print(\"Böyle bir eleman sayisi ile vektör olusturamayız.\")\n",
    "        return \n",
    "    if(n==0):\n",
    "        return [0]\n",
    "    for i in range(n): #sutün sayısı kadar 0 atadık \n",
    "        vectorList.append(0)\n",
    "    return vectorList"
   ]
  },
  {
   "cell_type": "code",
   "execution_count": 7,
   "metadata": {},
   "outputs": [],
   "source": [
    "def printMat(createMat,m,n): #matrisimizi ekrana bastırıyoruz.\n",
    "    for i in range(m):\n",
    "        for j in range(n):\n",
    "            print(createMat[i][j],end=\"  \")\n",
    "        print()"
   ]
  },
  {
   "cell_type": "code",
   "execution_count": 8,
   "metadata": {},
   "outputs": [],
   "source": [
    "def testVectorFormationAndMult():#vektörleri oluşturup skaler çarpımlarını sağlıyor.\n",
    "    print(\"ilk öncelikle vektör oluşturmamız lazım:\")\n",
    "    n=int(input(\"1. vektörün parametre sayisini giriniz:\"))\n",
    "    m=int(input(\"2.vektörün parametre sayisini giriniz:\"))\n",
    "    vector_1=createVector(n)\n",
    "    vector_2=createVector(m)\n",
    "    print(\"1.vektörümüz:\")\n",
    "    print(vector_1)\n",
    "    print(\"2.vektörümüz:\")\n",
    "    print(vector_2)\n",
    "    print(\"bu vektörlerimizin skaler çarpımı ise:\")\n",
    "    secim=int(input(\"bu iki vektörü skaler şekilde carpamk ister misiniz? (isterseniz 1 e basınız):\"))\n",
    "    if(secim==1):\n",
    "        scalerCarpim=vectorMult(vector_1,vector_2)\n",
    "        print()\n",
    "        print(\"skaler carpım sonucu:\")\n",
    "        print(scalerCarpim)\n",
    "\n",
    "    "
   ]
  },
  {
   "cell_type": "code",
   "execution_count": 9,
   "metadata": {},
   "outputs": [],
   "source": [
    "def testMatFormationAndMult(): #matrisleri oluşturup bunların çarpımlarını sağlıyor. \n",
    "    print(\"Olusturmak istediginiz matrislerin eleman sayılarını giriniz:\")\n",
    "    satS=int(input(\"olusturmak istediginiz 1.matristeki satir sayisini giriniz:\"))\n",
    "    sutS=int(input(\"olusturmak istediginiz 1.matristeki sutun sayisini giriniz:\"))\n",
    "    newMat1=createMat(satS,sutS)\n",
    "    satS2=int(input(\"olusturmak istediginiz 2'nci matristeki satir sayisini giriniz:\"))\n",
    "    sutS2=int(input(\"olusturmak istediginiz 2'nci matristeki sutun sayisini giriniz:\"))\n",
    "    newMat2=createMat(satS2,sutS2)\n",
    "    print()\n",
    "    print(\"1.nci matrisimiz:\")\n",
    "    printMat(newMat1,satS,sutS)\n",
    "    print(\"2.nci matrisimiz:\")\n",
    "    printMat(newMat2,satS2,sutS2)\n",
    "    secim=int(input(\"bu iki matrisi carpamk ister misiniz? (isterseniz 1 e basınız):\"))\n",
    "    if(secim==1):\n",
    "        print()\n",
    "        print(\"simdi bu matrislerimizin carptiktan sonraki olusacak matrisimize bakacak olursak:\")\n",
    "        matrisCarpim=matMult(newMat1,newMat2)\n",
    "        SonucMatSatSay=len(matrisCarpim)\n",
    "        SonucMatSutSay=len(matrisCarpim[0])\n",
    "        printMat(matrisCarpim,SonucMatSatSay,SonucMatSutSay)\n",
    "\n",
    "    "
   ]
  },
  {
   "cell_type": "code",
   "execution_count": 10,
   "metadata": {},
   "outputs": [
    {
     "name": "stdout",
     "output_type": "stream",
     "text": [
      "ilk öncelikle vektör oluşturmamız lazım:\n",
      "1. vektörün parametre sayisini giriniz:3\n",
      "2.vektörün parametre sayisini giriniz:4\n",
      "1.vektörümüz:\n",
      "[6, 2, 8]\n",
      "2.vektörümüz:\n",
      "[4, 10, 1, 4]\n",
      "bu vektörlerimizin skaler çarpımı ise:\n",
      "bu iki vektörü skaler şekilde carpamk ister misiniz? (isterseniz 1 e basınız):1\n",
      "\n",
      "skaler carpım sonucu:\n",
      "52\n"
     ]
    }
   ],
   "source": [
    "testVectorFormationAndMult()"
   ]
  },
  {
   "cell_type": "code",
   "execution_count": 11,
   "metadata": {},
   "outputs": [
    {
     "name": "stdout",
     "output_type": "stream",
     "text": [
      "Olusturmak istediginiz matrislerin eleman sayılarını giriniz:\n",
      "olusturmak istediginiz 1.matristeki satir sayisini giriniz:3\n",
      "olusturmak istediginiz 1.matristeki sutun sayisini giriniz:4\n",
      "olusturmak istediginiz 2'nci matristeki satir sayisini giriniz:4\n",
      "olusturmak istediginiz 2'nci matristeki sutun sayisini giriniz:5\n",
      "\n",
      "1.nci matrisimiz:\n",
      "3  10  4  3  \n",
      "5  7  9  10  \n",
      "10  5  2  1  \n",
      "2.nci matrisimiz:\n",
      "2  8  1  4  1  \n",
      "10  3  5  10  2  \n",
      "5  1  3  3  2  \n",
      "1  8  7  6  7  \n",
      "bu iki matrisi carpamk ister misiniz? (isterseniz 1 e basınız):1\n",
      "\n",
      "simdi bu matrislerimizin carptiktan sonraki olusacak matrisimize bakacak olursak:\n",
      "129  82  86  142  52  \n",
      "135  150  137  177  107  \n",
      "81  105  48  102  31  \n"
     ]
    }
   ],
   "source": [
    "testMatFormationAndMult()"
   ]
  }
 ],
 "metadata": {
  "kernelspec": {
   "display_name": "Python 3",
   "language": "python",
   "name": "python3"
  },
  "language_info": {
   "codemirror_mode": {
    "name": "ipython",
    "version": 3
   },
   "file_extension": ".py",
   "mimetype": "text/x-python",
   "name": "python",
   "nbconvert_exporter": "python",
   "pygments_lexer": "ipython3",
   "version": "3.7.6"
  }
 },
 "nbformat": 4,
 "nbformat_minor": 4
}
