{
 "cells": [
  {
   "cell_type": "code",
   "execution_count": null,
   "metadata": {},
   "outputs": [],
   "source": [
    "#The Central Limit Theorem= Merkezi Limit Teoremi"
   ]
  },
  {
   "cell_type": "code",
   "execution_count": 3,
   "metadata": {},
   "outputs": [],
   "source": [
    "import random\n",
    "import pylab"
   ]
  },
  {
   "cell_type": "code",
   "execution_count": 4,
   "metadata": {},
   "outputs": [],
   "source": [
    "def variance(X): #varyans hesaplamak için.:\n",
    "    mean=sum(X)/len(X)\n",
    "    tot=0.0\n",
    "    for x in X:\n",
    "        tot+=(x-mean)**2\n",
    "    return tot/len(X)  "
   ]
  },
  {
   "cell_type": "code",
   "execution_count": 5,
   "metadata": {},
   "outputs": [],
   "source": [
    "def stdDev(X):#standart sapması.\n",
    "    return variance(X)**0.5\n",
    "    "
   ]
  },
  {
   "cell_type": "code",
   "execution_count": 8,
   "metadata": {},
   "outputs": [],
   "source": [
    "def plotMeans(numDicePerTrial,numDiceThrown,numBins,legend,color,style): #numDicePerTrial: Deneme Başına atılan zar sayısı,numDiceThrown:Toplam atılan zar sayısı.\n",
    "    means=[] #ortalamalarını bulmak için listeye  atıcaz.\n",
    "    numTrials=numDiceThrown//numDicePerTrial # Deney sayısı.(Her bir stepte 10 kez atıcaksak eğer 100 kez toplam attığımızı düşünürsek, toplamda 10 tane deney yaparız gibi düşünebiliriz.)\n",
    "    for i in range(numTrials):\n",
    "        vals=0\n",
    "        for j in range(numDicePerTrial):\n",
    "            vals+=5*random.random() #değer aralığını büyütüyor gibi de düşünebiliriz.\n",
    "        means.append(vals/numDicePerTrial) #ortalamasını bulduk.\n",
    "    pylab.hist(means, numBins, color = color, label = legend,weights = pylab.array(len(means)*[1])/len(means),hatch = style)\n",
    "    return sum(means)/len(means), variance(means)"
   ]
  },
  {
   "cell_type": "code",
   "execution_count": 17,
   "metadata": {},
   "outputs": [
    {
     "name": "stdout",
     "output_type": "stream",
     "text": [
      "Mean of rolling 1 die = 2.5012 Variance = 2.0879\n",
      "Mean of rolling 100 dice = 2.4997 Variance = 0.0205\n"
     ]
    },
    {
     "data": {
      "text/plain": [
       "<matplotlib.legend.Legend at 0x219b968d048>"
      ]
     },
     "execution_count": 17,
     "metadata": {},
     "output_type": "execute_result"
    },
    {
     "data": {
      "image/png": "[encoded data removed]",
      "text/plain": [
       "<Figure size 432x288 with 1 Axes>"
      ]
     },
     "metadata": {
      "needs_background": "light"
     },
     "output_type": "display_data"
    }
   ],
   "source": [
    "mean, var=plotMeans(1,100000,11,'1 die','w','*')\n",
    "print('Mean of rolling 1 die =', round(mean,4),'Variance =', round(var,4)) #round(var,4) kısmında 4 yazan yer virgülden sonraki kaç basamağı almak istersin manasında yazılmış.\n",
    "mean,var=plotMeans(100,100000,11,'Mean of 100 dice','w','//')\n",
    "print('Mean of rolling 100 dice =', round(mean, 4),'Variance =', round(var, 4))\n",
    "pylab.title('Rolling Continuous Dice')\n",
    "pylab.xlabel('Value')\n",
    "pylab.ylabel('Probability')\n",
    "pylab.legend()"
   ]
  },
  {
   "cell_type": "code",
   "execution_count": null,
   "metadata": {},
   "outputs": [],
   "source": [
    "\"\"\"\n",
    "Mean of rolling 1 die = 2.5012 Variance = 2.0879\n",
    "Mean of rolling 100 dice = 2.4997 Variance = 0.0205\n",
    "\n",
    "kısımlarını incelersek eğer, 1 zar atmanın ortalaması ile 100 zar atmanın ortalamasının pek bir farkı olduğunu göremeyiz,\n",
    "fakat varyans değeri 100 zar için azaldığını görürüz, yani güven aralığı git gide artar.\n",
    "\n",
    "\"\"\""
   ]
  }
 ],
 "metadata": {
  "kernelspec": {
   "display_name": "Python 3",
   "language": "python",
   "name": "python3"
  },
  "language_info": {
   "codemirror_mode": {
    "name": "ipython",
    "version": 3
   },
   "file_extension": ".py",
   "mimetype": "text/x-python",
   "name": "python",
   "nbconvert_exporter": "python",
   "pygments_lexer": "ipython3",
   "version": "3.7.6"
  }
 },
 "nbformat": 4,
 "nbformat_minor": 4
}
