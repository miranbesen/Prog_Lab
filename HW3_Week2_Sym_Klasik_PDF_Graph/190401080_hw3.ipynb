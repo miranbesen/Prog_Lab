{
 "cells": [
  {
   "cell_type": "code",
   "execution_count": 13,
   "metadata": {},
   "outputs": [],
   "source": [
    "import sympy as sym\n",
    "from sympy import Symbol\n",
    "from sympy import Piecewise #parçalı fonksiyon yazabilmek için çağırdık\n",
    "import sympy.plotting as syp\n",
    "import matplotlib.pyplot as plt\n",
    "%matplotlib inline"
   ]
  },
  {
   "cell_type": "code",
   "execution_count": 14,
   "metadata": {},
   "outputs": [],
   "source": [
    "b=Symbol('b')\n",
    "a=Symbol('a')\n",
    "x = Symbol('x')"
   ]
  },
  {
   "cell_type": "code",
   "execution_count": 15,
   "metadata": {},
   "outputs": [],
   "source": [
    "formul=1/(b-a)"
   ]
  },
  {
   "cell_type": "code",
   "execution_count": 16,
   "metadata": {},
   "outputs": [],
   "source": [
    "maks=9 # b degeri\n",
    "min=3  # a degeri"
   ]
  },
  {
   "cell_type": "code",
   "execution_count": 17,
   "metadata": {},
   "outputs": [],
   "source": [
    "if(maks<min):\n",
    "    print(\"maksimum veya minimum degerleri yanlis girdiniz(otomatik yer degistiriliyor)\")\n",
    "    temp=maks\n",
    "    maks=min\n",
    "    min=temp"
   ]
  },
  {
   "cell_type": "code",
   "execution_count": 18,
   "metadata": {},
   "outputs": [
    {
     "data": {
      "image/png": "[encoded data removed]",
      "text/plain": [
       "<Figure size 432x288 with 1 Axes>"
      ]
     },
     "metadata": {
      "needs_background": "light"
     },
     "output_type": "display_data"
    },
    {
     "data": {
      "text/plain": [
       "<sympy.plotting.plot.Plot at 0x131894f4848>"
      ]
     },
     "execution_count": 18,
     "metadata": {},
     "output_type": "execute_result"
    }
   ],
   "source": [
    "syp.plot(Piecewise((0,(x<min) | (x>maks)),(formul.subs({a:min,b:maks}),(x>=min) & (x<=maks))),(x,-10,10),title=\"Uniform Distribution Graph\")\n",
    "#Piecewise fonksiyonunun ilk parametresi koşul, ikinci parametresi şarttır."
   ]
  },
  {
   "cell_type": "code",
   "execution_count": 19,
   "metadata": {},
   "outputs": [],
   "source": [
    "y_values=[]\n",
    "x_values=[]\n",
    "piecewise_function=Piecewise((0,(x<min) | (x>maks)),(formul.subs({a:min,b:maks}),(x>=min) & (x<=maks))).evalf()\n",
    "#fonksiyonu direk dongude belirtip x degeri girince hata veriyor. Bunun için ayrı tanımladık."
   ]
  },
  {
   "cell_type": "code",
   "execution_count": 20,
   "metadata": {},
   "outputs": [],
   "source": [
    "x_values_start=0.\n",
    "#float sayılar ile grafik daha düzgün oluyor diye floatlar ile grafiği çizdirdik.\n",
    "while(x_values_start<10.0):\n",
    "    y=piecewise_function.subs({x:x_values_start})\n",
    "    y_values.append(y)\n",
    "    x_values.append(x_values_start)\n",
    "    #print(x_values_start,y)\n",
    "    x_values_start+=0.1"
   ]
  },
  {
   "cell_type": "code",
   "execution_count": 21,
   "metadata": {},
   "outputs": [
    {
     "data": {
      "text/plain": [
       "[<matplotlib.lines.Line2D at 0x1318a5df508>]"
      ]
     },
     "execution_count": 21,
     "metadata": {},
     "output_type": "execute_result"
    },
    {
     "data": {
      "image/png": "[encoded data removed]",
      "text/plain": [
       "<Figure size 432x288 with 1 Axes>"
      ]
     },
     "metadata": {
      "needs_background": "light"
     },
     "output_type": "display_data"
    }
   ],
   "source": [
    "plt.plot(x_values,y_values)"
   ]
  },
  {
   "cell_type": "code",
   "execution_count": null,
   "metadata": {},
   "outputs": [],
   "source": [
    "\"\"\"(Uniform Distribution)\n",
    "x random olan değişkeniminizin alabileceği değerlerin aralığı(a,b) olsun. Eğer a ile b aralığında olan tüm değerlerin alabileceği\n",
    "değerler aynı ihtimalle sonuç alıyorsa, bu dağılıma uniform dağılım diyoruz. x'imizin olasılık fonksiyonu da;\n",
    "x= 1/(b-a) olur.\n",
    "x değerimizin a ile b dışında herhangi bir değer de olursa eğer 0 değeri alması gerekir.\n",
    "Örnek olarak; Bir zar atılma durumunu diyebiliriz. Hilesiz bir zar atıldığında ortaya çıkan  sonuçların olasılığı(1,2,3,4,5,6) \n",
    "1/6'dır.\n",
    "Eğer bu dağılımın olasılık yoğunluk fonksiyonunu gösterecek olursak eğer:\n",
    "          \n",
    "           /                                         \\\n",
    "          /     1/(b-a)       eğer a<=x<=b,           \\\n",
    "          \\                                           /\n",
    "f(x)=     /                                           \\\n",
    "          \\                                           /\n",
    "          /       0          diğer( x<a veya x>b)     \\\n",
    "         /                                             \\\n",
    "         \\                                             /\n",
    "\"\"\""
   ]
  },
  {
   "cell_type": "code",
   "execution_count": null,
   "metadata": {},
   "outputs": [],
   "source": [
    "#Ad Soyad: Miran Besen ||| Numara:190401080\n",
    "#GitHub Link: https://github.com/miranbesen/Prog_Lab/tree/master/HW3_Week2_Sym_Klasik_PDF_Graph"
   ]
  }
 ],
 "metadata": {
  "kernelspec": {
   "display_name": "Python 3",
   "language": "python",
   "name": "python3"
  },
  "language_info": {
   "codemirror_mode": {
    "name": "ipython",
    "version": 3
   },
   "file_extension": ".py",
   "mimetype": "text/x-python",
   "name": "python",
   "nbconvert_exporter": "python",
   "pygments_lexer": "ipython3",
   "version": "3.7.6"
  }
 },
 "nbformat": 4,
 "nbformat_minor": 4
}
